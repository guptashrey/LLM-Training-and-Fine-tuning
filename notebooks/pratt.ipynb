{
 "cells": [
  {
   "cell_type": "code",
   "execution_count": 2,
   "metadata": {},
   "outputs": [],
   "source": [
    "from bs4 import BeautifulSoup\n",
    "import requests\n",
    "import html2text\n",
    "import json\n",
    "from tqdm import tqdm\n",
    "import os"
   ]
  },
  {
   "cell_type": "code",
   "execution_count": 3,
   "metadata": {},
   "outputs": [],
   "source": [
    "h = html2text.HTML2Text()\n",
    "h.wrap_list_items = True\n",
    "h.ignore_images = True\n",
    "h.ignore_links = True\n",
    "h.ignore_tables = True"
   ]
  },
  {
   "cell_type": "code",
   "execution_count": 4,
   "metadata": {},
   "outputs": [],
   "source": [
    "url_list = [i for i in json.load(open('../data/cyber_meng_duke_edu.json')).keys()]"
   ]
  },
  {
   "cell_type": "code",
   "execution_count": 5,
   "metadata": {},
   "outputs": [
    {
     "data": {
      "text/plain": [
       "52"
      ]
     },
     "execution_count": 5,
     "metadata": {},
     "output_type": "execute_result"
    }
   ],
   "source": [
    "len(url_list)\n",
    "#url_list = url_list[1645:]"
   ]
  },
  {
   "cell_type": "code",
   "execution_count": 6,
   "metadata": {},
   "outputs": [
    {
     "name": "stderr",
     "output_type": "stream",
     "text": [
      "  4%|▍         | 2/52 [00:00<00:03, 12.98it/s]"
     ]
    },
    {
     "name": "stdout",
     "output_type": "stream",
     "text": [
      "cybersecurity.meng.duke.edu/news/podcast-robots-and-future-war.txt\n",
      "cybersecurity.meng.duke.edu/news/value-comprehensive-education-cybersecurity.txt\n",
      "cybersecurity.meng.duke.edu/news/new-year-more-cyber.txt\n"
     ]
    },
    {
     "name": "stderr",
     "output_type": "stream",
     "text": [
      " 12%|█▏        | 6/52 [00:00<00:03, 13.30it/s]"
     ]
    },
    {
     "name": "stdout",
     "output_type": "stream",
     "text": [
      "cybersecurity.meng.duke.edu/news/what-does-solarwinds-hack-mean-national-security.txt\n",
      "cybersecurity.meng.duke.edu/news/us-cisa-apply-jan-6-paid-student-internships.txt\n",
      "cybersecurity.meng.duke.edu/news/video-qa-faculty-member-mary-missy-cummings.txt\n"
     ]
    },
    {
     "name": "stderr",
     "output_type": "stream",
     "text": [
      " 15%|█▌        | 8/52 [00:00<00:03, 12.81it/s]"
     ]
    },
    {
     "name": "stdout",
     "output_type": "stream",
     "text": [
      "cybersecurity.meng.duke.edu/news/duke-cyber-policy-lecture-investing-cybersecurity.txt\n",
      "cybersecurity.meng.duke.edu/news/how-protect-cybersecurity-health-data-conversation-errol-weiss-and-john-banghart.txt\n",
      "cybersecurity.meng.duke.edu/news/leading-boardroom-private-company-governance.txt\n"
     ]
    },
    {
     "name": "stderr",
     "output_type": "stream",
     "text": [
      " 23%|██▎       | 12/52 [00:00<00:03, 13.29it/s]"
     ]
    },
    {
     "name": "stdout",
     "output_type": "stream",
     "text": [
      "cybersecurity.meng.duke.edu/news/duke-cyber-club-and-annoucements.txt\n",
      "cybersecurity.meng.duke.edu/news/webinar-what-nft-watch-jimmie-lenz-discuss-many-different-applications-ntfs.txt\n",
      "cybersecurity.meng.duke.edu.txt\n"
     ]
    },
    {
     "name": "stderr",
     "output_type": "stream",
     "text": [
      " 27%|██▋       | 14/52 [00:01<00:02, 13.45it/s]"
     ]
    },
    {
     "name": "stdout",
     "output_type": "stream",
     "text": [
      "cybersecurity.meng.duke.edu/faculty/randy-arvay.txt\n",
      "cybersecurity.meng.duke.edu/faculty/richard-biever.txt\n",
      "cybersecurity.meng.duke.edu/faculty/ramana-chamarty.txt\n"
     ]
    },
    {
     "name": "stderr",
     "output_type": "stream",
     "text": [
      " 35%|███▍      | 18/52 [00:01<00:02, 12.53it/s]"
     ]
    },
    {
     "name": "stdout",
     "output_type": "stream",
     "text": [
      "cybersecurity.meng.duke.edu/faculty/dave-chatterjee.txt\n",
      "cybersecurity.meng.duke.edu/faculty/mary-missy-cummings.txt\n",
      "cybersecurity.meng.duke.edu/faculty/louis-egger.txt\n"
     ]
    },
    {
     "name": "stderr",
     "output_type": "stream",
     "text": [
      " 38%|███▊      | 20/52 [00:01<00:02, 12.51it/s]"
     ]
    },
    {
     "name": "stdout",
     "output_type": "stream",
     "text": [
      "cybersecurity.meng.duke.edu/faculty/arturo-ehuan.txt\n",
      "cybersecurity.meng.duke.edu/faculty/craig-hurwitz.txt\n",
      "cybersecurity.meng.duke.edu/faculty/jonathan-knudsen.txt\n"
     ]
    },
    {
     "name": "stderr",
     "output_type": "stream",
     "text": [
      " 46%|████▌     | 24/52 [00:01<00:02, 12.98it/s]"
     ]
    },
    {
     "name": "stdout",
     "output_type": "stream",
     "text": [
      "cybersecurity.meng.duke.edu/faculty/kim-kotlar.txt\n",
      "cybersecurity.meng.duke.edu/faculty/luis-morales.txt\n",
      "cybersecurity.meng.duke.edu/faculty/jacob-vestal.txt\n"
     ]
    },
    {
     "name": "stderr",
     "output_type": "stream",
     "text": [
      " 50%|█████     | 26/52 [00:02<00:02, 12.74it/s]"
     ]
    },
    {
     "name": "stdout",
     "output_type": "stream",
     "text": [
      "cybersecurity.meng.duke.edu/courses#electives.txt\n",
      "cybersecurity.meng.duke.edu/courses.txt\n",
      "cybersecurity.meng.duke.edu/why-duke/career-services.txt\n"
     ]
    },
    {
     "name": "stderr",
     "output_type": "stream",
     "text": [
      " 58%|█████▊    | 30/52 [00:02<00:01, 13.15it/s]"
     ]
    },
    {
     "name": "stdout",
     "output_type": "stream",
     "text": [
      "cybersecurity.meng.duke.edu/why-duke/graduate-outcomes.txt\n",
      "cybersecurity.meng.duke.edu/degree.txt\n",
      "cybersecurity.meng.duke.edu/faculty.txt\n"
     ]
    },
    {
     "name": "stderr",
     "output_type": "stream",
     "text": [
      " 62%|██████▏   | 32/52 [00:02<00:01, 13.33it/s]"
     ]
    },
    {
     "name": "stdout",
     "output_type": "stream",
     "text": [
      "cybersecurity.meng.duke.edu/faculty/jimmie-lenz.txt\n",
      "cybersecurity.meng.duke.edu/faculty/bradley-fox.txt\n",
      "cybersecurity.meng.duke.edu/faculty/jeffrey-glass.txt\n"
     ]
    },
    {
     "name": "stderr",
     "output_type": "stream",
     "text": [
      " 69%|██████▉   | 36/52 [00:02<00:01, 12.46it/s]"
     ]
    },
    {
     "name": "stdout",
     "output_type": "stream",
     "text": [
      "cybersecurity.meng.duke.edu/faculty/john-nicholson.txt\n",
      "cybersecurity.meng.duke.edu/faculty/vahid-tarokh.txt\n",
      "cybersecurity.meng.duke.edu/news?page=1.txt\n"
     ]
    },
    {
     "name": "stderr",
     "output_type": "stream",
     "text": [
      " 73%|███████▎  | 38/52 [00:02<00:01, 12.45it/s]"
     ]
    },
    {
     "name": "stdout",
     "output_type": "stream",
     "text": [
      "cybersecurity.meng.duke.edu/news?page=2.txt\n",
      "cybersecurity.meng.duke.edu/news?page=3.txt\n",
      "cybersecurity.meng.duke.edu/news?page=4.txt\n"
     ]
    },
    {
     "name": "stderr",
     "output_type": "stream",
     "text": [
      " 81%|████████  | 42/52 [00:03<00:00, 12.84it/s]"
     ]
    },
    {
     "name": "stdout",
     "output_type": "stream",
     "text": [
      "cybersecurity.meng.duke.edu/news?page=5.txt\n",
      "cybersecurity.meng.duke.edu/news?page=6.txt\n",
      "cybersecurity.meng.duke.edu/news?page=7.txt\n"
     ]
    },
    {
     "name": "stderr",
     "output_type": "stream",
     "text": [
      " 85%|████████▍ | 44/52 [00:03<00:00, 12.99it/s]"
     ]
    },
    {
     "name": "stdout",
     "output_type": "stream",
     "text": [
      "cybersecurity.meng.duke.edu/news?page=8.txt\n",
      "cybersecurity.meng.duke.edu/.txt\n",
      "cybersecurity.meng.duke.edu/news.txt\n"
     ]
    },
    {
     "name": "stderr",
     "output_type": "stream",
     "text": [
      " 92%|█████████▏| 48/52 [00:03<00:00, 13.34it/s]"
     ]
    },
    {
     "name": "stdout",
     "output_type": "stream",
     "text": [
      "cybersecurity.meng.duke.edu/events.txt\n",
      "cybersecurity.meng.duke.edu/leadership.txt\n",
      "cybersecurity.meng.duke.edu/contact.txt\n"
     ]
    },
    {
     "name": "stderr",
     "output_type": "stream",
     "text": [
      " 96%|█████████▌| 50/52 [00:03<00:00, 13.68it/s]"
     ]
    },
    {
     "name": "stdout",
     "output_type": "stream",
     "text": [
      "cybersecurity.meng.duke.edu/why-duke.txt\n",
      "cybersecurity.meng.duke.edu/why-duke/tech-leaders.txt\n",
      "cybersecurity.meng.duke.edu/advisory-board.txt\n"
     ]
    },
    {
     "name": "stderr",
     "output_type": "stream",
     "text": [
      "100%|██████████| 52/52 [00:03<00:00, 13.02it/s]"
     ]
    },
    {
     "name": "stdout",
     "output_type": "stream",
     "text": [
      "cybersecurity.meng.duke.edu/apply.txt\n"
     ]
    },
    {
     "name": "stderr",
     "output_type": "stream",
     "text": [
      "\n"
     ]
    }
   ],
   "source": [
    "for i in tqdm(url_list):\n",
    "    session = requests.session()\n",
    "    req = session.get(i)\n",
    "    doc = BeautifulSoup(req.content)\n",
    "    \n",
    "    text = i + h.handle(str(doc))\n",
    "    \n",
    "    file_name = i.replace('https://', '') + '.txt'\n",
    "    print(file_name)\n",
    "    try:\n",
    "        os.makedirs(os.path.dirname(file_name), exist_ok=True)\n",
    "    except:\n",
    "        pass\n",
    "    with open(file_name, 'w') as f:\n",
    "        f.write(h.handle(str(doc)))"
   ]
  },
  {
   "cell_type": "code",
   "execution_count": null,
   "metadata": {},
   "outputs": [],
   "source": []
  }
 ],
 "metadata": {
  "kernelspec": {
   "display_name": "base",
   "language": "python",
   "name": "python3"
  },
  "language_info": {
   "codemirror_mode": {
    "name": "ipython",
    "version": 3
   },
   "file_extension": ".py",
   "mimetype": "text/x-python",
   "name": "python",
   "nbconvert_exporter": "python",
   "pygments_lexer": "ipython3",
   "version": "3.8.16"
  },
  "orig_nbformat": 4
 },
 "nbformat": 4,
 "nbformat_minor": 2
}
